{
 "cells": [
  {
   "cell_type": "markdown",
   "id": "0240e5f3-30b5-4649-8eae-d861901a83ac",
   "metadata": {},
   "source": [
    "列表：是一种结构化的、非标量类型，它是值的有序序列，每个值都可以通过索引进行标识\n",
    "遍历循环方法：\n",
    "    1. # 通过循环用下标遍历列表元素\n",
    "    2. # 通过for循环遍历列表元素\n",
    "    3. # 通过enumerate函数处理列表之后再遍历可以同时获得元素索引和值"
   ]
  },
  {
   "cell_type": "code",
   "execution_count": 2,
   "id": "5cfee79c-f745-4c0d-898a-bacf1dbd58f8",
   "metadata": {},
   "outputs": [
    {
     "name": "stdout",
     "output_type": "stream",
     "text": [
      "1\n",
      "3\n",
      "5\n",
      "7\n",
      "100\n"
     ]
    }
   ],
   "source": [
    "#!/usr/bin/python3\n",
    "\n",
    "list1 = [1, 3, 5, 7, 100]\n",
    "\n",
    "# 通过循环用下标遍历列表元素\n",
    "for index in range(len(list1)):\n",
    "    print(list1[index])"
   ]
  },
  {
   "cell_type": "code",
   "execution_count": 3,
   "id": "b01059a9-11f7-424b-9508-24e764573a1f",
   "metadata": {},
   "outputs": [
    {
     "name": "stdout",
     "output_type": "stream",
     "text": [
      "1\n",
      "3\n",
      "5\n",
      "7\n",
      "100\n"
     ]
    }
   ],
   "source": [
    "# 通过for循环遍历列表元素\n",
    "for index in list1:\n",
    "    print(index)"
   ]
  },
  {
   "cell_type": "code",
   "execution_count": 4,
   "id": "c4cffbd9-3e77-4975-9589-761abd6c9a83",
   "metadata": {
    "tags": []
   },
   "outputs": [
    {
     "name": "stdout",
     "output_type": "stream",
     "text": [
      "0 1\n",
      "1 3\n",
      "2 5\n",
      "3 7\n",
      "4 100\n"
     ]
    }
   ],
   "source": [
    "# 通过enumerate函数处理列表之后再遍历可以同时获得元素索引和值\n",
    "for index, elem in enumerate(list1):\n",
    "    print(index, elem)"
   ]
  },
  {
   "cell_type": "code",
   "execution_count": 6,
   "id": "54477e9e-d505-4457-8615-44eb8e245404",
   "metadata": {},
   "outputs": [
    {
     "data": {
      "text/plain": [
       "['apple', 'blueberry', 'internationalization', 'orange', 'zoo']"
      ]
     },
     "execution_count": 6,
     "metadata": {},
     "output_type": "execute_result"
    }
   ],
   "source": [
    "# 对列表进行排序\n",
    "list2 = ['orange', 'apple', 'zoo', 'internationalization', 'blueberry']\n",
    "list_sort = sorted(list2)\n",
    "list_sort"
   ]
  },
  {
   "cell_type": "code",
   "execution_count": 7,
   "id": "adc7e4c2-e2e2-402c-9d9c-b64a469e5604",
   "metadata": {},
   "outputs": [
    {
     "data": {
      "text/plain": [
       "['zoo', 'orange', 'internationalization', 'blueberry', 'apple']"
      ]
     },
     "execution_count": 7,
     "metadata": {},
     "output_type": "execute_result"
    }
   ],
   "source": [
    "# 默认 reverse = Fasle -> 升序\n",
    "list_sort_2 = sorted(list2, reverse=True)\n",
    "list_sort_2"
   ]
  },
  {
   "cell_type": "code",
   "execution_count": 8,
   "id": "c8b5888c-bbe2-407e-9f6d-516fd955e60a",
   "metadata": {},
   "outputs": [
    {
     "data": {
      "text/plain": [
       "['zoo', 'apple', 'orange', 'blueberry', 'internationalization']"
      ]
     },
     "execution_count": 8,
     "metadata": {},
     "output_type": "execute_result"
    }
   ],
   "source": [
    "# 通过key关键字参数指定根据字符串长度进行排序而不是默认的字母表顺序\n",
    "list_sort_3 = sorted(list2, key=len)\n",
    "list_sort_3"
   ]
  },
  {
   "cell_type": "code",
   "execution_count": null,
   "id": "aa7194e6-8c8f-4a8a-b584-b150de425a6d",
   "metadata": {},
   "outputs": [],
   "source": [
    "# 给列表对象发出排序消息直接在列表对象上进行排序\n",
    "list2.sort(reverse=True)\n",
    "list2"
   ]
  },
  {
   "cell_type": "markdown",
   "id": "7bf27512-0ea8-4702-8041-562f30a2f99a",
   "metadata": {},
   "source": [
    "使用生成式和生成器创建列表"
   ]
  },
  {
   "cell_type": "code",
   "execution_count": 12,
   "id": "4c765bb9-4051-41ae-9fc1-e48a69a2c8ba",
   "metadata": {},
   "outputs": [
    {
     "data": {
      "text/plain": [
       "[1, 3, 5, 7, 9, 11, 13, 15, 17, 19]"
      ]
     },
     "execution_count": 12,
     "metadata": {},
     "output_type": "execute_result"
    }
   ],
   "source": [
    "lt1 = [x for x in range(1, 20, 2)]\n",
    "lt1"
   ]
  },
  {
   "cell_type": "code",
   "execution_count": 14,
   "id": "fc4b63b7-ef56-4981-a29a-cb1b599b0767",
   "metadata": {},
   "outputs": [
    {
     "data": {
      "text/plain": [
       "[2, 4, 6, 8, 10, 12, 14, 16]"
      ]
     },
     "execution_count": 14,
     "metadata": {},
     "output_type": "execute_result"
    }
   ],
   "source": [
    "lt2 = [x * 2 for x in range(1, 9)]\n",
    "lt2"
   ]
  }
 ],
 "metadata": {
  "kernelspec": {
   "display_name": "Python 3 (ipykernel)",
   "language": "python",
   "name": "python3"
  },
  "language_info": {
   "codemirror_mode": {
    "name": "ipython",
    "version": 3
   },
   "file_extension": ".py",
   "mimetype": "text/x-python",
   "name": "python",
   "nbconvert_exporter": "python",
   "pygments_lexer": "ipython3",
   "version": "3.9.12"
  }
 },
 "nbformat": 4,
 "nbformat_minor": 5
}
